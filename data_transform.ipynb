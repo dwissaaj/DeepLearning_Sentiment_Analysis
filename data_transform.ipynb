{
 "cells": [
  {
   "cell_type": "code",
   "execution_count": 2,
   "metadata": {
    "collapsed": true
   },
   "outputs": [
    {
     "data": {
      "text/plain": "                                                text count\n0  @SweetDreamchics @ygterindah00 @KangUtang04 @J...   101\n1  @KangUtang04 @RakyatBersatu55 @ElinMoenik71 @N...   100\n2  @PosIndonesia tolong dm dan email saya dijawab...    92\n3  @KangUtang04 @JamanEdan543123 @in5T1nk1N9 @Ard...    88\n4  MEWGULF MERCHANDISE PROJECT\\n\\n SHIPPING OVERS...    66",
      "text/html": "<div>\n<style scoped>\n    .dataframe tbody tr th:only-of-type {\n        vertical-align: middle;\n    }\n\n    .dataframe tbody tr th {\n        vertical-align: top;\n    }\n\n    .dataframe thead th {\n        text-align: right;\n    }\n</style>\n<table border=\"1\" class=\"dataframe\">\n  <thead>\n    <tr style=\"text-align: right;\">\n      <th></th>\n      <th>text</th>\n      <th>count</th>\n    </tr>\n  </thead>\n  <tbody>\n    <tr>\n      <th>0</th>\n      <td>@SweetDreamchics @ygterindah00 @KangUtang04 @J...</td>\n      <td>101</td>\n    </tr>\n    <tr>\n      <th>1</th>\n      <td>@KangUtang04 @RakyatBersatu55 @ElinMoenik71 @N...</td>\n      <td>100</td>\n    </tr>\n    <tr>\n      <th>2</th>\n      <td>@PosIndonesia tolong dm dan email saya dijawab...</td>\n      <td>92</td>\n    </tr>\n    <tr>\n      <th>3</th>\n      <td>@KangUtang04 @JamanEdan543123 @in5T1nk1N9 @Ard...</td>\n      <td>88</td>\n    </tr>\n    <tr>\n      <th>4</th>\n      <td>MEWGULF MERCHANDISE PROJECT\\n\\n SHIPPING OVERS...</td>\n      <td>66</td>\n    </tr>\n  </tbody>\n</table>\n</div>"
     },
     "execution_count": 2,
     "metadata": {},
     "output_type": "execute_result"
    }
   ],
   "source": [
    "import pandas as pd\n",
    "import re\n",
    "df = pd.read_excel(\"POS 13-31.xlsx\")\n",
    "df = df.astype(str).apply(lambda x: x.str.encode('ascii', 'ignore').str.decode('ascii'))\n",
    "df.head()"
   ]
  },
  {
   "cell_type": "code",
   "execution_count": 3,
   "outputs": [
    {
     "name": "stderr",
     "output_type": "stream",
     "text": [
      "C:\\Users\\PC\\AppData\\Local\\Temp/ipykernel_20992/3489967657.py:26: FutureWarning: The default value of regex will change from True to False in a future version.\n",
      "  df['text'] = df['text'].str.replace(r'[^\\w\\s]+', '')\n"
     ]
    }
   ],
   "source": [
    "\n",
    "df['text'] = df['text'].replace({'\"':'',\n",
    "                                 '\\d+':'',\n",
    "                                 ':':'',\n",
    "                                 ';':'',\n",
    "                                 '#':'',\n",
    "                                 '_':'',\n",
    "                                 ',': '',\n",
    "                                 \"'\": '',\n",
    "                                  }, regex=True)\n",
    "\n",
    "df['text'] = df['text'].str.replace(r'[https]+[?://]+[^\\s<>\"]+|www\\.[^\\s<>\"]+[?()]+[(??)]+[)*]+[(\\xa0]+[-&gt]', \"\",regex=True)\n",
    "\n",
    "df['text'] = df['text'].replace('\\n','', regex=True)\n",
    "\n",
    "df['text'] = df['text'].replace({'\\.':'','(/)':'','\\(':'','\\)':''},regex=True)\n",
    "df['text'] = df['text'].replace('[\\.:\"]','',regex =True)\n",
    "df['text'] = df['text'].replace('\\?', '', regex=True)\n",
    "df['text'] = df['text'].replace('\\!', '', regex=True)\n",
    "df['text'] = df['text'].replace('\\*', '', regex=True)\n",
    "df['text'] = df['text'].replace('\\%', '', regex=True)\n",
    "df['text'] = df['text'].replace('\\&', '', regex=True)\n",
    "df['text'] = df['text'].replace('\\~', '', regex=True)\n",
    "df['text'] = df['text'].replace('\\=', ' ', regex=True)\n",
    "df['text'] = df['text'].replace('\\-', '', regex=True)\n",
    "df['text'] = df['text'].replace('@', ' ', regex=True)\n",
    "df['text'] = df['text'].str.replace(r'[^\\w\\s]+', '')\n",
    "#df['text'].astype(str)\n",
    "df['text'] = df['text'].replace('\\s+', ' ', regex=True)\n",
    "df['text'] = df['text'].str.strip()\n",
    "df['text'] = df['text'].str.lower()\n"
   ],
   "metadata": {
    "collapsed": false,
    "pycharm": {
     "name": "#%%\n"
    }
   }
  },
  {
   "cell_type": "code",
   "execution_count": 5,
   "outputs": [
    {
     "name": "stdout",
     "output_type": "stream",
     "text": [
      "(491, 2)\n",
      "(491, 2)\n",
      "text     0\n",
      "count    0\n",
      "dtype: int64\n"
     ]
    }
   ],
   "source": [
    "print(f\"{df.shape}\")\n",
    "print(f\"{df.isna().sum()}\")"
   ],
   "metadata": {
    "collapsed": false,
    "pycharm": {
     "name": "#%%\n"
    }
   }
  },
  {
   "cell_type": "code",
   "execution_count": 6,
   "outputs": [],
   "source": [
    "df.to_excel(\"data transform.xlsx\")\n",
    "\n",
    "\n",
    "\n"
   ],
   "metadata": {
    "collapsed": false,
    "pycharm": {
     "name": "#%%m\n"
    }
   }
  }
 ],
 "metadata": {
  "kernelspec": {
   "display_name": "Python 3",
   "language": "python",
   "name": "python3"
  },
  "language_info": {
   "codemirror_mode": {
    "name": "ipython",
    "version": 2
   },
   "file_extension": ".py",
   "mimetype": "text/x-python",
   "name": "python",
   "nbconvert_exporter": "python",
   "pygments_lexer": "ipython2",
   "version": "2.7.6"
  }
 },
 "nbformat": 4,
 "nbformat_minor": 0
}