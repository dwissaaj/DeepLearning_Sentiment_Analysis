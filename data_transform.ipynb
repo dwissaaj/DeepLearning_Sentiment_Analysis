{
 "cells": [
  {
   "cell_type": "code",
   "execution_count": 37,
   "metadata": {
    "collapsed": true
   },
   "outputs": [],
   "source": [
    "import pandas as pd\n",
    "df = pd.read_excel(\"data testing.xlsx\")"
   ]
  },
  {
   "cell_type": "code",
   "execution_count": 38,
   "outputs": [],
   "source": [
    "import re\n",
    "df['text'] = df['text'].replace('\\s+', ' ', regex=True)\n",
    "df['text'] = df['text'].fillna('').apply(str)\n",
    "df['text'] = df['text'].replace({'\"':'',\n",
    "                                 '\\d+':'',\n",
    "                                 ':':'',\n",
    "                                 ';':'',\n",
    "                                 '#':'',\n",
    "                                 '@':'',\n",
    "                                 '_':'',\n",
    "                                 ',': '',\n",
    "                                 \"'\": '',\n",
    "                                  }, regex=True)\n",
    "\n",
    "df['text'] = df['text'].str.replace(r'[https]+[?://]+[^\\s<>\"]+|www\\.[^\\s<>\"]+[?()]+[(??)]+[)*]+[(\\xa0]+[-&gt...]', \"\",regex=True)\n",
    "\n",
    "df['text'] = df['text'].replace('\\n','', regex=True)\n",
    "\n",
    "df['text'] = df['text'].replace({'\\.':'','(/)':'','\\(':'','\\)':''},regex=True)\n",
    "df['text'] = df['text'].replace('[\\.:\"]','',regex =True)\n",
    "\n",
    "df['text'] = df['text'].fillna('').apply(str)\n",
    "\n",
    "df['text'].astype(str)\n",
    "letters_only = re.sub(\"[^a-zA-Z]\",  # Search for all non-letters\n",
    "                          \" \",          # Replace all non-letters with spaces\n",
    "                          str(df['text']))\n",
    "df['text'] = df['text'].str.strip()\n",
    "df['text'] = df['text'].str.lower()"
   ],
   "metadata": {
    "collapsed": false,
    "pycharm": {
     "name": "#%%\n"
    }
   }
  },
  {
   "cell_type": "code",
   "execution_count": 39,
   "outputs": [
    {
     "data": {
      "text/plain": "                                                  text\n0    ayo jawab siapa yg baru tau kalau pos indonesi...\n1    oktober  memperingati hari kesaktian pancasila...\n2    alasan sederhana mau coba download pospayoffic...\n3    tercatat sampai dengan semester i- pertumbuhan...\n4    digitalisasi di tubuh pt pos indonesia diwujud...\n..                                                 ...\n979  🌟unfortunately pos malaysia only delivers to t...\n980  💌 kapankah anda terakhir kali menulis surat? 💌...\n981  💫 po case album aespa  savage 💫 💌 ditunggu sam...\n982  💳 checkout all nominal shopee split pay 💳 shop...\n983  😢no existirá intercambio de jugadores en pes  ...\n\n[984 rows x 1 columns]",
      "text/html": "<div>\n<style scoped>\n    .dataframe tbody tr th:only-of-type {\n        vertical-align: middle;\n    }\n\n    .dataframe tbody tr th {\n        vertical-align: top;\n    }\n\n    .dataframe thead th {\n        text-align: right;\n    }\n</style>\n<table border=\"1\" class=\"dataframe\">\n  <thead>\n    <tr style=\"text-align: right;\">\n      <th></th>\n      <th>text</th>\n    </tr>\n  </thead>\n  <tbody>\n    <tr>\n      <th>0</th>\n      <td>ayo jawab siapa yg baru tau kalau pos indonesi...</td>\n    </tr>\n    <tr>\n      <th>1</th>\n      <td>oktober  memperingati hari kesaktian pancasila...</td>\n    </tr>\n    <tr>\n      <th>2</th>\n      <td>alasan sederhana mau coba download pospayoffic...</td>\n    </tr>\n    <tr>\n      <th>3</th>\n      <td>tercatat sampai dengan semester i- pertumbuhan...</td>\n    </tr>\n    <tr>\n      <th>4</th>\n      <td>digitalisasi di tubuh pt pos indonesia diwujud...</td>\n    </tr>\n    <tr>\n      <th>...</th>\n      <td>...</td>\n    </tr>\n    <tr>\n      <th>979</th>\n      <td>🌟unfortunately pos malaysia only delivers to t...</td>\n    </tr>\n    <tr>\n      <th>980</th>\n      <td>💌 kapankah anda terakhir kali menulis surat? 💌...</td>\n    </tr>\n    <tr>\n      <th>981</th>\n      <td>💫 po case album aespa  savage 💫 💌 ditunggu sam...</td>\n    </tr>\n    <tr>\n      <th>982</th>\n      <td>💳 checkout all nominal shopee split pay 💳 shop...</td>\n    </tr>\n    <tr>\n      <th>983</th>\n      <td>😢no existirá intercambio de jugadores en pes  ...</td>\n    </tr>\n  </tbody>\n</table>\n<p>984 rows × 1 columns</p>\n</div>"
     },
     "execution_count": 39,
     "metadata": {},
     "output_type": "execute_result"
    }
   ],
   "source": [
    "df\n"
   ],
   "metadata": {
    "collapsed": false,
    "pycharm": {
     "name": "#%%\n"
    }
   }
  },
  {
   "cell_type": "code",
   "execution_count": 42,
   "outputs": [
    {
     "data": {
      "text/plain": "                                                  text\n0    ayo jawab siapa yg baru tau kalau pos indonesi...\n1    oktober  memperingati hari kesaktian pancasila...\n2    alasan sederhana mau coba download pospayoffic...\n3    tercatat sampai dengan semester i- pertumbuhan...\n4    digitalisasi di tubuh pt pos indonesia diwujud...\n..                                                 ...\n979  unfortunately pos malaysia only delivers to th...\n980   kapankah anda terakhir kali menulis surat?  m...\n981   po case album aespa  savage   ditunggu sampai...\n982   checkout all nominal shopee split pay  shopee...\n983  no existir intercambio de jugadores en pes   p...\n\n[984 rows x 1 columns]",
      "text/html": "<div>\n<style scoped>\n    .dataframe tbody tr th:only-of-type {\n        vertical-align: middle;\n    }\n\n    .dataframe tbody tr th {\n        vertical-align: top;\n    }\n\n    .dataframe thead th {\n        text-align: right;\n    }\n</style>\n<table border=\"1\" class=\"dataframe\">\n  <thead>\n    <tr style=\"text-align: right;\">\n      <th></th>\n      <th>text</th>\n    </tr>\n  </thead>\n  <tbody>\n    <tr>\n      <th>0</th>\n      <td>ayo jawab siapa yg baru tau kalau pos indonesi...</td>\n    </tr>\n    <tr>\n      <th>1</th>\n      <td>oktober  memperingati hari kesaktian pancasila...</td>\n    </tr>\n    <tr>\n      <th>2</th>\n      <td>alasan sederhana mau coba download pospayoffic...</td>\n    </tr>\n    <tr>\n      <th>3</th>\n      <td>tercatat sampai dengan semester i- pertumbuhan...</td>\n    </tr>\n    <tr>\n      <th>4</th>\n      <td>digitalisasi di tubuh pt pos indonesia diwujud...</td>\n    </tr>\n    <tr>\n      <th>...</th>\n      <td>...</td>\n    </tr>\n    <tr>\n      <th>979</th>\n      <td>unfortunately pos malaysia only delivers to th...</td>\n    </tr>\n    <tr>\n      <th>980</th>\n      <td>kapankah anda terakhir kali menulis surat?  m...</td>\n    </tr>\n    <tr>\n      <th>981</th>\n      <td>po case album aespa  savage   ditunggu sampai...</td>\n    </tr>\n    <tr>\n      <th>982</th>\n      <td>checkout all nominal shopee split pay  shopee...</td>\n    </tr>\n    <tr>\n      <th>983</th>\n      <td>no existir intercambio de jugadores en pes   p...</td>\n    </tr>\n  </tbody>\n</table>\n<p>984 rows × 1 columns</p>\n</div>"
     },
     "execution_count": 42,
     "metadata": {},
     "output_type": "execute_result"
    }
   ],
   "source": [
    "df = df.astype(str).apply(lambda x: x.str.encode('ascii', 'ignore').str.decode('ascii'))\n",
    "df"
   ],
   "metadata": {
    "collapsed": false,
    "pycharm": {
     "name": "#%%\n"
    }
   }
  },
  {
   "cell_type": "code",
   "execution_count": 43,
   "outputs": [],
   "source": [
    "df.to_excel(\"data clear.xlsx\")\n"
   ],
   "metadata": {
    "collapsed": false,
    "pycharm": {
     "name": "#%%\n"
    }
   }
  }
 ],
 "metadata": {
  "kernelspec": {
   "display_name": "Python 3",
   "language": "python",
   "name": "python3"
  },
  "language_info": {
   "codemirror_mode": {
    "name": "ipython",
    "version": 2
   },
   "file_extension": ".py",
   "mimetype": "text/x-python",
   "name": "python",
   "nbconvert_exporter": "python",
   "pygments_lexer": "ipython2",
   "version": "2.7.6"
  }
 },
 "nbformat": 4,
 "nbformat_minor": 0
}