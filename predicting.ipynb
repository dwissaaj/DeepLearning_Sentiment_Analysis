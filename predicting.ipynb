{
 "cells": [
  {
   "cell_type": "code",
   "execution_count": 1,
   "metadata": {
    "collapsed": true
   },
   "outputs": [],
   "source": [
    "from tensorflow.keras.preprocessing.text import Tokenizer\n",
    "from tensorflow.keras.preprocessing.sequence import pad_sequences\n",
    "import pandas as pd\n",
    "import numpy as np\n",
    "import tensorflow as tf"
   ]
  },
  {
   "cell_type": "code",
   "execution_count": 2,
   "outputs": [
    {
     "name": "stdout",
     "output_type": "stream",
     "text": [
      "Model: \"sequential\"\n",
      "_________________________________________________________________\n",
      " Layer (type)                Output Shape              Param #   \n",
      "=================================================================\n",
      " embedding (Embedding)       (None, 150, 10)           200000    \n",
      "                                                                 \n",
      " global_average_pooling1d (G  (None, 10)               0         \n",
      " lobalAveragePooling1D)                                          \n",
      "                                                                 \n",
      " dense (Dense)               (None, 20)                220       \n",
      "                                                                 \n",
      " dense_1 (Dense)             (None, 40)                840       \n",
      "                                                                 \n",
      " dense_2 (Dense)             (None, 3)                 123       \n",
      "                                                                 \n",
      "=================================================================\n",
      "Total params: 201,183\n",
      "Trainable params: 201,183\n",
      "Non-trainable params: 0\n",
      "_________________________________________________________________\n"
     ]
    }
   ],
   "source": [
    "model = tf.keras.models.load_model('my_model.h5',compile = True)\n",
    "model.summary()"
   ],
   "metadata": {
    "collapsed": false,
    "pycharm": {
     "name": "#%%\n"
    }
   }
  },
  {
   "cell_type": "code",
   "execution_count": 4,
   "outputs": [],
   "source": [
    "vocab_size = 20000\n",
    "embedding_dim = 10\n",
    "max_length = 150\n",
    "trunc_type = 'post'\n",
    "padding_type = 'post'\n",
    "oov_tok = \"<OOV>\""
   ],
   "metadata": {
    "collapsed": false,
    "pycharm": {
     "name": "#%%\n"
    }
   }
  },
  {
   "cell_type": "code",
   "execution_count": 5,
   "outputs": [
    {
     "name": "stdout",
     "output_type": "stream",
     "text": [
      "total null Unnamed: 0    0\n",
      "text          0\n",
      "count         0\n",
      "dtype: int64\n",
      "total null Unnamed: 0    0\n",
      "text          0\n",
      "count         0\n",
      "dtype: int64\n"
     ]
    }
   ],
   "source": [
    "data_predict = pd.read_excel(\"data clear alif.xlsx\")\n",
    "data_predict = data_predict.astype(str).apply(lambda x: x.str.encode('ascii', 'ignore').str.decode('ascii'))\n",
    "print(f\"total null {data_predict.isnull().sum()}\")\n",
    "print(f\"total null {data_predict.isna().sum()}\")"
   ],
   "metadata": {
    "collapsed": false,
    "pycharm": {
     "name": "#%%\n"
    }
   }
  },
  {
   "cell_type": "code",
   "execution_count": 6,
   "outputs": [
    {
     "name": "stdout",
     "output_type": "stream",
     "text": [
      "total null after drop Unnamed: 0    0\n",
      "text          0\n",
      "count         0\n",
      "dtype: int64\n",
      "total null after drop Unnamed: 0    0\n",
      "text          0\n",
      "count         0\n",
      "dtype: int64\n"
     ]
    }
   ],
   "source": [
    "data_predict = data_predict.dropna()\n",
    "data_predict.isna().sum()\n",
    "print(f\"total null after drop {data_predict.isnull().sum()}\")\n",
    "print(f\"total null after drop {data_predict.isna().sum()}\")\n"
   ],
   "metadata": {
    "collapsed": false,
    "pycharm": {
     "name": "#%%\n"
    }
   }
  },
  {
   "cell_type": "code",
   "execution_count": 7,
   "outputs": [
    {
     "data": {
      "text/plain": "['ayo jawab siapa yg baru tau kalau pos indonesia punya ewallet bernama  pospayofficial  utk mendukung langkah bumn utk negeri install dan aktivasi pospay dr skrg yuk banyak bonus yg akan didapat dan jg bentuk dr aksi nyata kita dukung karya hebat bumn',\n 'oktober  memperingati hari kesaktian pancasila bersama  pospayofficial keren sih tagline nya selalu tangguh di mana saja sbg informasi pospay adalah ewallet keluaran bumn pos indonesia',\n 'alasan sederhana mau coba download  pospayofficial adl dalam rangka mendukung karya bumn aplikasi ini layak diapresiasi sbg salah satu ikhtiar pos indonesia utk negeri',\n 'tercatat sampai dengan semester i pertumbuhan bisnis pt pos indonesia mencapai  dibandingkan dengan tahun lalu semua ini berkat kehadiran platform digital pakaipospay  tiorichardo  airinairinnz  andreopasumual  warhasnotendyet  kontannews',\n 'digitalisasi di tubuh pt pos indonesia diwujudkan dengan diluncurkannya dua aplikasi produk layanan untuk semakin memudahkan pelanggan salah satunya adalah pospay  tiorichardo  ninjacirng  iecstyling  carlaindriana']"
     },
     "execution_count": 7,
     "metadata": {},
     "output_type": "execute_result"
    }
   ],
   "source": [
    "data = data_predict['text'].tolist()\n",
    "data[:5]"
   ],
   "metadata": {
    "collapsed": false,
    "pycharm": {
     "name": "#%%\n"
    }
   }
  },
  {
   "cell_type": "code",
   "execution_count": 8,
   "outputs": [],
   "source": [
    "X = data\n",
    "tokenizer = Tokenizer(num_words=vocab_size,oov_token=oov_tok)\n",
    "tokenizer.fit_on_texts(X)\n",
    "sequences = tokenizer.texts_to_sequences(data)\n",
    "padded = pad_sequences(sequences,maxlen=max_length,padding=padding_type,truncating=trunc_type)\n",
    "predic = model.predict(padded)\n"
   ],
   "metadata": {
    "collapsed": false,
    "pycharm": {
     "name": "#%%\n"
    }
   }
  },
  {
   "cell_type": "code",
   "execution_count": 9,
   "outputs": [],
   "source": [
    "y_label = {0:\"negative\",1:\"neutral\",2:\"positive\"}\n",
    "sentimen = []\n",
    "for x in predic:\n",
    "    sentimen.append(y_label[np.argmax(x)])\n"
   ],
   "metadata": {
    "collapsed": false,
    "pycharm": {
     "name": "#%%\n"
    }
   }
  },
  {
   "cell_type": "code",
   "execution_count": 10,
   "outputs": [
    {
     "data": {
      "text/plain": "                                                 tweet  sentimen count\n0    ayo jawab siapa yg baru tau kalau pos indonesi...  positive   121\n1    oktober  memperingati hari kesaktian pancasila...  positive   115\n2    alasan sederhana mau coba download  pospayoffi...  positive    99\n3    tercatat sampai dengan semester i pertumbuhan ...  negative    82\n4    digitalisasi di tubuh pt pos indonesia diwujud...   neutral    78\n..                                                 ...       ...   ...\n878  unfortunately pos malaysia only delivers to th...  positive     1\n879  kapankah anda terakhir kali menulis surat masi...  negative     1\n880  po case album aespa  savage ditunggu sampai   ...   neutral     1\n881  checkout all nominal shopee split pay shopeepa...  positive     1\n882  no existir intercambio de jugadores en pes  po...  negative     1\n\n[883 rows x 3 columns]",
      "text/html": "<div>\n<style scoped>\n    .dataframe tbody tr th:only-of-type {\n        vertical-align: middle;\n    }\n\n    .dataframe tbody tr th {\n        vertical-align: top;\n    }\n\n    .dataframe thead th {\n        text-align: right;\n    }\n</style>\n<table border=\"1\" class=\"dataframe\">\n  <thead>\n    <tr style=\"text-align: right;\">\n      <th></th>\n      <th>tweet</th>\n      <th>sentimen</th>\n      <th>count</th>\n    </tr>\n  </thead>\n  <tbody>\n    <tr>\n      <th>0</th>\n      <td>ayo jawab siapa yg baru tau kalau pos indonesi...</td>\n      <td>positive</td>\n      <td>121</td>\n    </tr>\n    <tr>\n      <th>1</th>\n      <td>oktober  memperingati hari kesaktian pancasila...</td>\n      <td>positive</td>\n      <td>115</td>\n    </tr>\n    <tr>\n      <th>2</th>\n      <td>alasan sederhana mau coba download  pospayoffi...</td>\n      <td>positive</td>\n      <td>99</td>\n    </tr>\n    <tr>\n      <th>3</th>\n      <td>tercatat sampai dengan semester i pertumbuhan ...</td>\n      <td>negative</td>\n      <td>82</td>\n    </tr>\n    <tr>\n      <th>4</th>\n      <td>digitalisasi di tubuh pt pos indonesia diwujud...</td>\n      <td>neutral</td>\n      <td>78</td>\n    </tr>\n    <tr>\n      <th>...</th>\n      <td>...</td>\n      <td>...</td>\n      <td>...</td>\n    </tr>\n    <tr>\n      <th>878</th>\n      <td>unfortunately pos malaysia only delivers to th...</td>\n      <td>positive</td>\n      <td>1</td>\n    </tr>\n    <tr>\n      <th>879</th>\n      <td>kapankah anda terakhir kali menulis surat masi...</td>\n      <td>negative</td>\n      <td>1</td>\n    </tr>\n    <tr>\n      <th>880</th>\n      <td>po case album aespa  savage ditunggu sampai   ...</td>\n      <td>neutral</td>\n      <td>1</td>\n    </tr>\n    <tr>\n      <th>881</th>\n      <td>checkout all nominal shopee split pay shopeepa...</td>\n      <td>positive</td>\n      <td>1</td>\n    </tr>\n    <tr>\n      <th>882</th>\n      <td>no existir intercambio de jugadores en pes  po...</td>\n      <td>negative</td>\n      <td>1</td>\n    </tr>\n  </tbody>\n</table>\n<p>883 rows × 3 columns</p>\n</div>"
     },
     "execution_count": 10,
     "metadata": {},
     "output_type": "execute_result"
    }
   ],
   "source": [
    "data_clean = pd.DataFrame({'tweet':data_predict['text'],'sentimen':sentimen,'count':data_predict['count']})\n",
    "data_clean"
   ],
   "metadata": {
    "collapsed": false,
    "pycharm": {
     "name": "#%%\n"
    }
   }
  }
 ],
 "metadata": {
  "kernelspec": {
   "display_name": "Python 3",
   "language": "python",
   "name": "python3"
  },
  "language_info": {
   "codemirror_mode": {
    "name": "ipython",
    "version": 2
   },
   "file_extension": ".py",
   "mimetype": "text/x-python",
   "name": "python",
   "nbconvert_exporter": "python",
   "pygments_lexer": "ipython2",
   "version": "2.7.6"
  }
 },
 "nbformat": 4,
 "nbformat_minor": 0
}