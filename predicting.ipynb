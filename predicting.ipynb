{
 "cells": [
  {
   "cell_type": "code",
   "execution_count": 1,
   "metadata": {
    "collapsed": true
   },
   "outputs": [],
   "source": [
    "from tensorflow.keras.preprocessing.text import Tokenizer\n",
    "from tensorflow.keras.preprocessing.sequence import pad_sequences\n",
    "import pandas as pd\n",
    "import numpy as np\n",
    "import tensorflow as tf"
   ]
  },
  {
   "cell_type": "code",
   "execution_count": 2,
   "outputs": [
    {
     "name": "stdout",
     "output_type": "stream",
     "text": [
      "Model: \"sequential\"\n",
      "_________________________________________________________________\n",
      " Layer (type)                Output Shape              Param #   \n",
      "=================================================================\n",
      " embedding (Embedding)       (None, 150, 10)           200000    \n",
      "                                                                 \n",
      " global_average_pooling1d (G  (None, 10)               0         \n",
      " lobalAveragePooling1D)                                          \n",
      "                                                                 \n",
      " dense (Dense)               (None, 20)                220       \n",
      "                                                                 \n",
      " dense_1 (Dense)             (None, 40)                840       \n",
      "                                                                 \n",
      " dense_2 (Dense)             (None, 3)                 123       \n",
      "                                                                 \n",
      "=================================================================\n",
      "Total params: 201,183\n",
      "Trainable params: 201,183\n",
      "Non-trainable params: 0\n",
      "_________________________________________________________________\n"
     ]
    }
   ],
   "source": [
    "model = tf.keras.models.load_model('my_model.h5',compile = True)\n",
    "model.summary()"
   ],
   "metadata": {
    "collapsed": false,
    "pycharm": {
     "name": "#%%\n"
    }
   }
  },
  {
   "cell_type": "code",
   "execution_count": 6,
   "outputs": [],
   "source": [
    "vocab_size = 20000\n",
    "embedding_dim = 10\n",
    "max_length = 150\n",
    "trunc_type = 'post'\n",
    "padding_type = 'post'\n",
    "oov_tok = \"<OOV>\""
   ],
   "metadata": {
    "collapsed": false,
    "pycharm": {
     "name": "#%%\n"
    }
   }
  },
  {
   "cell_type": "code",
   "execution_count": 7,
   "outputs": [
    {
     "name": "stdout",
     "output_type": "stream",
     "text": [
      "total null Unnamed: 0    0\n",
      "text          0\n",
      "count         0\n",
      "dtype: int64\n",
      "total null Unnamed: 0    0\n",
      "text          0\n",
      "count         0\n",
      "dtype: int64\n"
     ]
    }
   ],
   "source": [
    "data_predict = pd.read_excel(\"data transform.xlsx\")\n",
    "data_predict = data_predict.astype(str).apply(lambda x: x.str.encode('ascii', 'ignore').str.decode('ascii'))\n",
    "print(f\"total null {data_predict.isnull().sum()}\")\n",
    "print(f\"total null {data_predict.isna().sum()}\")"
   ],
   "metadata": {
    "collapsed": false,
    "pycharm": {
     "name": "#%%\n"
    }
   }
  },
  {
   "cell_type": "code",
   "execution_count": 4,
   "outputs": [
    {
     "data": {
      "text/plain": "['sweetdreamchics ygterindah kangutang jamanedan intnkn ardjuna dancersejati uagil dewimajid myputun manisewidiarti tctcltorm solidaritas syeifm oposisikecil sebagai agen pembangunan pt pos indonesia dibangkrutkan peoplepower',\n 'kangutang rakyatbersatu elinmoenik najairocky kaidevil oposisi kaumtabu bill mahameru gnwnmulyadi pandorapapers abdullanew anishudaya anang pt pos indonesia merugicabutmandatpresiden',\n 'posindonesia tolong dm dan email saya dijawab barang saya dan anak go hilang setelah melalui pemeriksaan fisik sy tanya ke becuk bravobeacukai katanya komplain ke kalian tapi malah ga ada respon jangan sampai saya jadi curiga kalau pihak kalian kerjasama untuk nyolong ya',\n 'kangutang jamanedan intnkn ardjuna dancersejati uagil dewimajid myputun manisewidiarti tctcltorm solidaritas syeifm oposisikecil energi positif presiden jenius bikin pt pos indonesia bangkrutpeoplepower',\n 'mewgulf merchandise project shipping overseas pos indonesiayou can check shipping fee for your country here profit will be split equally for mews amp gulfs birthday project']"
     },
     "execution_count": 4,
     "metadata": {},
     "output_type": "execute_result"
    }
   ],
   "source": [
    "data = data_predict['text'].tolist()\n",
    "data[:5]"
   ],
   "metadata": {
    "collapsed": false,
    "pycharm": {
     "name": "#%%\n"
    }
   }
  },
  {
   "cell_type": "code",
   "execution_count": 8,
   "outputs": [],
   "source": [
    "X = data\n",
    "tokenizer = Tokenizer(num_words=vocab_size,oov_token=oov_tok)\n",
    "tokenizer.fit_on_texts(X)\n",
    "sequences = tokenizer.texts_to_sequences(data)\n",
    "padded = pad_sequences(sequences,maxlen=max_length,padding=padding_type,truncating=trunc_type)\n",
    "predic = model.predict(padded)\n"
   ],
   "metadata": {
    "collapsed": false,
    "pycharm": {
     "name": "#%%\n"
    }
   }
  },
  {
   "cell_type": "code",
   "execution_count": 9,
   "outputs": [],
   "source": [
    "y_label = {0:\"negative\",1:\"neutral\",2:\"positive\"}\n",
    "sentimen = []\n",
    "for x in predic:\n",
    "    sentimen.append(y_label[np.argmax(x)])\n"
   ],
   "metadata": {
    "collapsed": false,
    "pycharm": {
     "name": "#%%\n"
    }
   }
  },
  {
   "cell_type": "code",
   "execution_count": 12,
   "outputs": [],
   "source": [
    "data_clean = pd.DataFrame({'tweet':data_predict['text'],'sentimen':sentimen,'count':data_predict['count']})\n",
    "data_clean.to_excel(\"POS INDONESIA SENTIMEN 13 30.xlsx\")"
   ],
   "metadata": {
    "collapsed": false,
    "pycharm": {
     "name": "#%%\n"
    }
   }
  },
  {
   "cell_type": "code",
   "execution_count": 20,
   "outputs": [
    {
     "name": "stdout",
     "output_type": "stream",
     "text": [
      "('You must install pydot (`pip install pydot`) and install graphviz (see instructions at https://graphviz.gitlab.io/download/) ', 'for plot_model/model_to_dot to work.')\n"
     ]
    }
   ],
   "source": [],
   "metadata": {
    "collapsed": false,
    "pycharm": {
     "name": "#%%\n"
    }
   }
  }
 ],
 "metadata": {
  "kernelspec": {
   "display_name": "Python 3",
   "language": "python",
   "name": "python3"
  },
  "language_info": {
   "codemirror_mode": {
    "name": "ipython",
    "version": 2
   },
   "file_extension": ".py",
   "mimetype": "text/x-python",
   "name": "python",
   "nbconvert_exporter": "python",
   "pygments_lexer": "ipython2",
   "version": "2.7.6"
  }
 },
 "nbformat": 4,
 "nbformat_minor": 0
}