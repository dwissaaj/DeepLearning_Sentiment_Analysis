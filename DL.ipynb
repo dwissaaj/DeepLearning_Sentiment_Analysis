{
 "cells": [
  {
   "cell_type": "code",
   "execution_count": 1,
   "metadata": {
    "collapsed": true
   },
   "outputs": [
    {
     "name": "stderr",
     "output_type": "stream",
     "text": [
      "2021-11-07 21:55:53.281021: W tensorflow/stream_executor/platform/default/dso_loader.cc:64] Could not load dynamic library 'libcudart.so.11.0'; dlerror: libcudart.so.11.0: cannot open shared object file: No such file or directory\n",
      "2021-11-07 21:55:53.281065: I tensorflow/stream_executor/cuda/cudart_stub.cc:29] Ignore above cudart dlerror if you do not have a GPU set up on your machine.\n"
     ]
    }
   ],
   "source": [
    "import pandas as pd\n",
    "import tensorflow"
   ]
  },
  {
   "cell_type": "code",
   "execution_count": 5,
   "outputs": [
    {
     "data": {
      "text/plain": "                                                text  sentiment Unnamed: 2\n0  ayo jawab siapa yg baru tau kalau pos indonesi...        3.0        NaN\n1  oktober memperingati hari kesaktian pancasila ...        3.0        NaN\n2  alasan sederhana mau coba download pospayoffic...        3.0        NaN\n3  tercatat sampai dengan semester i- pertumbuhan...        3.0        NaN\n4  pospay punya cerita download aplikasinya dan d...        3.0        NaN",
      "text/html": "<div>\n<style scoped>\n    .dataframe tbody tr th:only-of-type {\n        vertical-align: middle;\n    }\n\n    .dataframe tbody tr th {\n        vertical-align: top;\n    }\n\n    .dataframe thead th {\n        text-align: right;\n    }\n</style>\n<table border=\"1\" class=\"dataframe\">\n  <thead>\n    <tr style=\"text-align: right;\">\n      <th></th>\n      <th>text</th>\n      <th>sentiment</th>\n      <th>Unnamed: 2</th>\n    </tr>\n  </thead>\n  <tbody>\n    <tr>\n      <th>0</th>\n      <td>ayo jawab siapa yg baru tau kalau pos indonesi...</td>\n      <td>3.0</td>\n      <td>NaN</td>\n    </tr>\n    <tr>\n      <th>1</th>\n      <td>oktober memperingati hari kesaktian pancasila ...</td>\n      <td>3.0</td>\n      <td>NaN</td>\n    </tr>\n    <tr>\n      <th>2</th>\n      <td>alasan sederhana mau coba download pospayoffic...</td>\n      <td>3.0</td>\n      <td>NaN</td>\n    </tr>\n    <tr>\n      <th>3</th>\n      <td>tercatat sampai dengan semester i- pertumbuhan...</td>\n      <td>3.0</td>\n      <td>NaN</td>\n    </tr>\n    <tr>\n      <th>4</th>\n      <td>pospay punya cerita download aplikasinya dan d...</td>\n      <td>3.0</td>\n      <td>NaN</td>\n    </tr>\n  </tbody>\n</table>\n</div>"
     },
     "execution_count": 5,
     "metadata": {},
     "output_type": "execute_result"
    }
   ],
   "source": [
    "df = pd.read_excel(\"data train.xlsx\")\n",
    "df.head()"
   ],
   "metadata": {
    "collapsed": false,
    "pycharm": {
     "name": "#%%\n"
    }
   }
  },
  {
   "cell_type": "code",
   "execution_count": 10,
   "outputs": [
    {
     "data": {
      "text/plain": "                                                   text  sentiment Unnamed: 2  \\\n0     ayo jawab siapa yg baru tau kalau pos indonesi...          3        NaN   \n1     oktober memperingati hari kesaktian pancasila ...          3        NaN   \n2     alasan sederhana mau coba download pospayoffic...          3        NaN   \n3     tercatat sampai dengan semester i- pertumbuhan...          3        NaN   \n4     pospay punya cerita download aplikasinya dan d...          3        NaN   \n...                                                 ...        ...        ...   \n1829  Caranya gimana Caranya kalian bungkus hadiah k...          2        NaN   \n1830          Citacita Objektivitas Satu Data Indonesia          2        NaN   \n1831  Dalam acara itu Direktur Utama Pos Indonesia F...          3        NaN   \n1832  Dalam rangka menyambut Maulid Nabi H dan menel...          3        NaN   \n1833  Dalam rangka menyambut Maulid Nabi H dan menel...          3        NaN   \n\n      negative  \n0        False  \n1        False  \n2        False  \n3        False  \n4        False  \n...        ...  \n1829     False  \n1830     False  \n1831     False  \n1832     False  \n1833     False  \n\n[1834 rows x 4 columns]",
      "text/html": "<div>\n<style scoped>\n    .dataframe tbody tr th:only-of-type {\n        vertical-align: middle;\n    }\n\n    .dataframe tbody tr th {\n        vertical-align: top;\n    }\n\n    .dataframe thead th {\n        text-align: right;\n    }\n</style>\n<table border=\"1\" class=\"dataframe\">\n  <thead>\n    <tr style=\"text-align: right;\">\n      <th></th>\n      <th>text</th>\n      <th>sentiment</th>\n      <th>Unnamed: 2</th>\n      <th>negative</th>\n    </tr>\n  </thead>\n  <tbody>\n    <tr>\n      <th>0</th>\n      <td>ayo jawab siapa yg baru tau kalau pos indonesi...</td>\n      <td>3</td>\n      <td>NaN</td>\n      <td>False</td>\n    </tr>\n    <tr>\n      <th>1</th>\n      <td>oktober memperingati hari kesaktian pancasila ...</td>\n      <td>3</td>\n      <td>NaN</td>\n      <td>False</td>\n    </tr>\n    <tr>\n      <th>2</th>\n      <td>alasan sederhana mau coba download pospayoffic...</td>\n      <td>3</td>\n      <td>NaN</td>\n      <td>False</td>\n    </tr>\n    <tr>\n      <th>3</th>\n      <td>tercatat sampai dengan semester i- pertumbuhan...</td>\n      <td>3</td>\n      <td>NaN</td>\n      <td>False</td>\n    </tr>\n    <tr>\n      <th>4</th>\n      <td>pospay punya cerita download aplikasinya dan d...</td>\n      <td>3</td>\n      <td>NaN</td>\n      <td>False</td>\n    </tr>\n    <tr>\n      <th>...</th>\n      <td>...</td>\n      <td>...</td>\n      <td>...</td>\n      <td>...</td>\n    </tr>\n    <tr>\n      <th>1829</th>\n      <td>Caranya gimana Caranya kalian bungkus hadiah k...</td>\n      <td>2</td>\n      <td>NaN</td>\n      <td>False</td>\n    </tr>\n    <tr>\n      <th>1830</th>\n      <td>Citacita Objektivitas Satu Data Indonesia</td>\n      <td>2</td>\n      <td>NaN</td>\n      <td>False</td>\n    </tr>\n    <tr>\n      <th>1831</th>\n      <td>Dalam acara itu Direktur Utama Pos Indonesia F...</td>\n      <td>3</td>\n      <td>NaN</td>\n      <td>False</td>\n    </tr>\n    <tr>\n      <th>1832</th>\n      <td>Dalam rangka menyambut Maulid Nabi H dan menel...</td>\n      <td>3</td>\n      <td>NaN</td>\n      <td>False</td>\n    </tr>\n    <tr>\n      <th>1833</th>\n      <td>Dalam rangka menyambut Maulid Nabi H dan menel...</td>\n      <td>3</td>\n      <td>NaN</td>\n      <td>False</td>\n    </tr>\n  </tbody>\n</table>\n<p>1834 rows × 4 columns</p>\n</div>"
     },
     "execution_count": 10,
     "metadata": {},
     "output_type": "execute_result"
    }
   ],
   "source": [
    "df['sentiment'] = df['sentiment'].fillna(value=2)\n",
    "df['sentiment'] = df['sentiment'].astype(int)"
   ],
   "metadata": {
    "collapsed": false,
    "pycharm": {
     "name": "#%%\n"
    }
   }
  },
  {
   "cell_type": "code",
   "execution_count": 11,
   "outputs": [
    {
     "data": {
      "text/plain": "(1834,)"
     },
     "execution_count": 11,
     "metadata": {},
     "output_type": "execute_result"
    }
   ],
   "source": [
    "neg = df['sentiment'] == 1\n",
    "neg.shape"
   ],
   "metadata": {
    "collapsed": false,
    "pycharm": {
     "name": "#%%\n"
    }
   }
  }
 ],
 "metadata": {
  "kernelspec": {
   "display_name": "Python 3",
   "language": "python",
   "name": "python3"
  },
  "language_info": {
   "codemirror_mode": {
    "name": "ipython",
    "version": 2
   },
   "file_extension": ".py",
   "mimetype": "text/x-python",
   "name": "python",
   "nbconvert_exporter": "python",
   "pygments_lexer": "ipython2",
   "version": "2.7.6"
  }
 },
 "nbformat": 4,
 "nbformat_minor": 0
}